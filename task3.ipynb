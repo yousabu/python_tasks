{
 "cells": [
  {
   "cell_type": "code",
   "execution_count": 19,
   "metadata": {},
   "outputs": [
    {
     "name": "stdout",
     "output_type": "stream",
     "text": [
      "name: bus speed 180 mileaege : 50\n"
     ]
    }
   ],
   "source": [
    "class Vehicle:\n",
    "    def __init__(self,name,max_speed,mileage):\n",
    "        self.name=name\n",
    "        self.max_speed=max_speed\n",
    "        self.mileage=mileage\n",
    "\n",
    "class Bus(Vehicle):\n",
    "    pass\n",
    "b1=Bus(\"bus\",180,50)\n",
    "\n",
    "print(\"name:\",b1.name,\"speed\",b1.max_speed, \"mileaege :\", b1.mileage)\n",
    "\n"
   ]
  },
  {
   "cell_type": "code",
   "execution_count": 10,
   "metadata": {},
   "outputs": [
    {
     "name": "stdout",
     "output_type": "stream",
     "text": [
      "The Seating Capacity of bus is 50 Passengers\n"
     ]
    }
   ],
   "source": [
    "class Vehicle:\n",
    "    def __init__(self,name,max_speed,mileage):\n",
    "        self.name=name\n",
    "        self.max_speed=max_speed\n",
    "        self.mileage=mileage\n",
    "    def Seating_Capacity(self,capacity):\n",
    "        print(f\"The Seating Capacity of {self.name} is {capacity} Passengers\")\n",
    "    \n",
    "class Bus(Vehicle):\n",
    "    def __init__(self,name,max_speed,mileage):\n",
    "        super().__init__(name, max_speed, mileage)\n",
    "    def Seating_Capacity(self,capacity=50):\n",
    "        print(f\"The Seating Capacity of {self.name} is {capacity} Passengers\")\n",
    "\n",
    "b2=Bus(\"bus\",180,50)\n",
    "b2.Seating_Capacity()\n",
    "6"
   ]
  },
  {
   "cell_type": "code",
   "execution_count": 11,
   "metadata": {},
   "outputs": [
    {
     "name": "stdout",
     "output_type": "stream",
     "text": [
      "Total Bus Free is : 5500.0\n"
     ]
    }
   ],
   "source": [
    "class Vehicle:\n",
    "    def __init__(self,name,max_speed,mileage,capacity):\n",
    "        self.name=name\n",
    "        self.max_speed=max_speed\n",
    "        self.mileage=mileage\n",
    "        self.capacity=capacity\n",
    "    def Fare(self):\n",
    "        return self.capacity*100\n",
    "               \n",
    "class Bus(Vehicle):\n",
    "    def __init__(self,name,max_speed,mileage):\n",
    "        super().__init__(name,max_speed,mileage,capacity=50)\n",
    "    def Fare(self):\n",
    "        return self.capacity*100+(0.1*self.capacity*100)\n",
    "    \n",
    "b3=Bus(\"bus\",180,50)\n",
    "print(\"Total Bus Free is :\",b3.Fare())"
   ]
  },
  {
   "cell_type": "code",
   "execution_count": null,
   "metadata": {},
   "outputs": [],
   "source": []
  }
 ],
 "metadata": {
  "kernelspec": {
   "display_name": "Python 3",
   "language": "python",
   "name": "python3"
  },
  "language_info": {
   "codemirror_mode": {
    "name": "ipython",
    "version": 3
   },
   "file_extension": ".py",
   "mimetype": "text/x-python",
   "name": "python",
   "nbconvert_exporter": "python",
   "pygments_lexer": "ipython3",
   "version": "3.7.6"
  }
 },
 "nbformat": 4,
 "nbformat_minor": 4
}
