{
 "cells": [
  {
   "cell_type": "code",
   "execution_count": 1,
   "metadata": {},
   "outputs": [
    {
     "name": "stdout",
     "output_type": "stream",
     "text": [
      "Homo sapiens Is an ape it's name starts with --> H and has [ 12 ] letters\n",
      "Pan troglodytes Is an ape it's name starts with --> P and has [ 15 ] letters\n",
      "Gorilla gorilla Is an ape it's name starts with --> G and has [ 15 ] letters\n"
     ]
    }
   ],
   "source": [
    "#Q1\n",
    "List_apes=[\"Homo sapiens\",\"Pan troglodytes\",\"Gorilla gorilla\"]\n",
    "for i in List_apes:\n",
    "    length=len(i)\n",
    "    first_letter=i[0]\n",
    "    print(i,\"Is an ape it's name starts with -->\",first_letter,\"and has [\",length,\"] letters\")"
   ]
  },
  {
   "cell_type": "code",
   "execution_count": 2,
   "metadata": {},
   "outputs": [
    {
     "name": "stdout",
     "output_type": "stream",
     "text": [
      "Enter your name : Mostafa emad helal\n",
      "Enter yout age : 21\n",
      "Enter your college : faculty of computer & information\n",
      "name =  Mostafa emad helal \n",
      " age =  21 \n",
      " college =  faculty of computer & information\n"
     ]
    }
   ],
   "source": [
    "#Q3\n",
    "def fun():\n",
    "    name=input(\"Enter your name : \")\n",
    "    age=int(input(\"Enter yout age : \"))\n",
    "    college=input(\"Enter your college : \")\n",
    "    \n",
    "    print(\"name = \",name,\"\\n age = \",age,\"\\n college = \",college)\n",
    "fun()"
   ]
  },
  {
   "cell_type": "code",
   "execution_count": 3,
   "metadata": {},
   "outputs": [
    {
     "name": "stdout",
     "output_type": "stream",
     "text": [
      "[2, 4, 6, 8]\n"
     ]
    }
   ],
   "source": [
    "# Q4\n",
    "List=[1, 2, 3, 4, 5, 6, 7, 8, 9]\n",
    "List2=[]\n",
    "for i in List:\n",
    "    if i%2==0:\n",
    "        List2.append(i)\n",
    "print(List2)"
   ]
  },
  {
   "cell_type": "code",
   "execution_count": 4,
   "metadata": {},
   "outputs": [
    {
     "name": "stdout",
     "output_type": "stream",
     "text": [
      "Enter number : 5\n",
      "120\n"
     ]
    }
   ],
   "source": [
    "#Q5\n",
    "def fact(n):\n",
    "    if n==0:\n",
    "        return 1\n",
    "    else:\n",
    "        return n*fact(n-1)\n",
    "n=int(input(\"Enter number : \"))\n",
    "print(fact(n))"
   ]
  },
  {
   "cell_type": "code",
   "execution_count": 5,
   "metadata": {},
   "outputs": [
    {
     "name": "stdout",
     "output_type": "stream",
     "text": [
      "55\n"
     ]
    }
   ],
   "source": [
    "#Q6\n",
    "def sum(n):\n",
    "    if n==0:\n",
    "        return 0\n",
    "    else:\n",
    "        return n+sum(n-1)\n",
    "n=10\n",
    "print(sum(n))"
   ]
  }
 ],
 "metadata": {
  "kernelspec": {
   "display_name": "Python 3",
   "language": "python",
   "name": "python3"
  },
  "language_info": {
   "codemirror_mode": {
    "name": "ipython",
    "version": 3
   },
   "file_extension": ".py",
   "mimetype": "text/x-python",
   "name": "python",
   "nbconvert_exporter": "python",
   "pygments_lexer": "ipython3",
   "version": "3.7.6"
  }
 },
 "nbformat": 4,
 "nbformat_minor": 5
}
