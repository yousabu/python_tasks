{
 "cells": [
  {
   "cell_type": "code",
   "execution_count": 1,
   "metadata": {},
   "outputs": [
    {
     "name": "stdout",
     "output_type": "stream",
     "text": [
      "0 1 2 3 4 5 6 7 8 9 "
     ]
    }
   ],
   "source": [
    "#1\n",
    "for i in range(10):\n",
    "\tprint(i, end=\" \")"
   ]
  },
  {
   "cell_type": "code",
   "execution_count": 2,
   "metadata": {},
   "outputs": [
    {
     "name": "stdout",
     "output_type": "stream",
     "text": [
      "3.14\n"
     ]
    }
   ],
   "source": [
    "#2\n",
    "a_float = 3.14159\n",
    "formatted_float = f\"{a_float:.2f}\"\n",
    "\n",
    "print(formatted_float)"
   ]
  },
  {
   "cell_type": "code",
   "execution_count": 3,
   "metadata": {},
   "outputs": [
    {
     "name": "stdout",
     "output_type": "stream",
     "text": [
      "Enter afloat number: 2\n",
      "Enter afloat number: 2\n",
      "Enter afloat number: 2\n",
      "Enter afloat number: 2\n",
      "Enter afloat number: 2\n",
      "[2.0, 2.0, 2.0, 2.0, 2.0]\n"
     ]
    }
   ],
   "source": [
    "#3\n",
    "flist = []\n",
    "for i in range(5):\n",
    "    a = float(input(\"Enter afloat number: \"))\n",
    "    flist.append(a)\n",
    "\n",
    "\n",
    "\n",
    "print(flist)"
   ]
  },
  {
   "cell_type": "code",
   "execution_count": 4,
   "metadata": {},
   "outputs": [
    {
     "name": "stdout",
     "output_type": "stream",
     "text": [
      "False\n",
      "The file is  empty\n"
     ]
    }
   ],
   "source": [
    "#4\n",
    "import os\n",
    "#\n",
    "print(os.stat(\"q4.py\").st_size == 0)\n",
    "\n",
    "\n",
    "#/////////////////////////////////////////////\n",
    "\n",
    "\n",
    "filesize = os.path.getsize(\"sample.txt\")\n",
    "\n",
    "if filesize == 0:\n",
    "    print(\"The file is  empty\")\n",
    "else:\n",
    "    print(\"The file is  not empty\")"
   ]
  },
  {
   "cell_type": "code",
   "execution_count": 5,
   "metadata": {},
   "outputs": [
    {
     "name": "stdout",
     "output_type": "stream",
     "text": [
      "{\"age\": 29, \"id\": 2, \"name\": \"values\"}\n"
     ]
    }
   ],
   "source": [
    "#5\n",
    "import json\n",
    "\n",
    "sampleJson = {\"id\" : 2, \"name\": \"values\", \"age\" : 29}\n",
    "\n",
    "a_json = json.dumps(sampleJson, sort_keys=True)\n",
    "\n",
    "print(a_json)\n",
    "\n",
    "with open('data.json', 'w') as f:\n",
    "    json.dump(sampleJson, f, indent=4)"
   ]
  },
  {
   "cell_type": "code",
   "execution_count": 6,
   "metadata": {},
   "outputs": [
    {
     "name": "stdout",
     "output_type": "stream",
     "text": [
      "['name1', 'name2']\n"
     ]
    }
   ],
   "source": [
    "#6\n",
    "data =[\n",
    "    {\n",
    "        \"id\": 1,\n",
    "        \"name\": \"name1\",\n",
    "        \"color\": [\n",
    "            \"red\",\n",
    "            \"green\"\n",
    "        ]\n",
    "    },\n",
    "    {\n",
    "        \"id\": 2,\n",
    "        \"name\": \"name2\",\n",
    "        \"color\": [\n",
    "            \"pink\",\n",
    "            \"yellow\"\n",
    "        ]\n",
    "    }\n",
    "]\n",
    "\n",
    "\n",
    "\n",
    "names = []\n",
    "for i in data:\n",
    "    names.append(i['name'])\n",
    "\n",
    "print(names)"
   ]
  },
  {
   "cell_type": "code",
   "execution_count": 7,
   "metadata": {},
   "outputs": [
    {
     "name": "stdout",
     "output_type": "stream",
     "text": [
      "   symboling normalized-losses         make fuel-type aspiration num-of-doors  \\\n",
      "0          3                 ?  alfa-romero       gas        std          two   \n",
      "1          3                 ?  alfa-romero       gas        std          two   \n",
      "2          1                 ?  alfa-romero       gas        std          two   \n",
      "3          2               164         audi       gas        std         four   \n",
      "4          2               164         audi       gas        std         four   \n",
      "\n",
      "    body-style drive-wheels engine-location  wheel-base  ...  engine-size  \\\n",
      "0  convertible          rwd           front        88.6  ...          130   \n",
      "1  convertible          rwd           front        88.6  ...          130   \n",
      "2    hatchback          rwd           front        94.5  ...          152   \n",
      "3        sedan          fwd           front        99.8  ...          109   \n",
      "4        sedan          4wd           front        99.4  ...          136   \n",
      "\n",
      "   fuel-system  bore  stroke compression-ratio horsepower  peak-rpm city-mpg  \\\n",
      "0         mpfi  3.47    2.68               9.0        111      5000       21   \n",
      "1         mpfi  3.47    2.68               9.0        111      5000       21   \n",
      "2         mpfi  2.68    3.47               9.0        154      5000       19   \n",
      "3         mpfi  3.19     3.4              10.0        102      5500       24   \n",
      "4         mpfi  3.19     3.4               8.0        115      5500       18   \n",
      "\n",
      "  highway-mpg  price  \n",
      "0          27  13495  \n",
      "1          27  16500  \n",
      "2          26  16500  \n",
      "3          30  13950  \n",
      "4          22  17450  \n",
      "\n",
      "[5 rows x 26 columns]\n",
      "     symboling normalized-losses   make fuel-type aspiration num-of-doors  \\\n",
      "200         -1                95  volvo       gas        std         four   \n",
      "201         -1                95  volvo       gas      turbo         four   \n",
      "202         -1                95  volvo       gas        std         four   \n",
      "203         -1                95  volvo    diesel      turbo         four   \n",
      "204         -1                95  volvo       gas      turbo         four   \n",
      "\n",
      "    body-style drive-wheels engine-location  wheel-base  ...  engine-size  \\\n",
      "200      sedan          rwd           front       109.1  ...          141   \n",
      "201      sedan          rwd           front       109.1  ...          141   \n",
      "202      sedan          rwd           front       109.1  ...          173   \n",
      "203      sedan          rwd           front       109.1  ...          145   \n",
      "204      sedan          rwd           front       109.1  ...          141   \n",
      "\n",
      "     fuel-system  bore  stroke compression-ratio horsepower  peak-rpm  \\\n",
      "200         mpfi  3.78    3.15               9.5        114      5400   \n",
      "201         mpfi  3.78    3.15               8.7        160      5300   \n",
      "202         mpfi  3.58    2.87               8.8        134      5500   \n",
      "203          idi  3.01     3.4              23.0        106      4800   \n",
      "204         mpfi  3.78    3.15               9.5        114      5400   \n",
      "\n",
      "    city-mpg highway-mpg  price  \n",
      "200       23          28  16845  \n",
      "201       19          25  19045  \n",
      "202       18          23  21485  \n",
      "203       26          27  22470  \n",
      "204       19          25  22625  \n",
      "\n",
      "[5 rows x 26 columns]\n"
     ]
    }
   ],
   "source": [
    "#7\n",
    "import pandas as pd\n",
    "\n",
    "\n",
    "df = pd.read_csv('Automobile_data.csv')\n",
    "\n",
    "\n",
    "print(df.head(5))\n",
    "\n",
    "print(df.tail(5))"
   ]
  },
  {
   "cell_type": "code",
   "execution_count": null,
   "metadata": {},
   "outputs": [],
   "source": []
  }
 ],
 "metadata": {
  "kernelspec": {
   "display_name": "Python 3",
   "language": "python",
   "name": "python3"
  },
  "language_info": {
   "codemirror_mode": {
    "name": "ipython",
    "version": 3
   },
   "file_extension": ".py",
   "mimetype": "text/x-python",
   "name": "python",
   "nbconvert_exporter": "python",
   "pygments_lexer": "ipython3",
   "version": "3.7.6"
  }
 },
 "nbformat": 4,
 "nbformat_minor": 4
}
