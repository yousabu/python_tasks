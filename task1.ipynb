{
 "cells": [
  {
   "cell_type": "code",
   "execution_count": 34,
   "metadata": {},
   "outputs": [
    {
     "name": "stdout",
     "output_type": "stream",
     "text": [
      "00:06:56 , 2021-12-29\n",
      "00:06:56\n"
     ]
    }
   ],
   "source": [
    "#Q1\n",
    "\n",
    "import time \n",
    "ltime = time.localtime()\n",
    "ftime = time.strftime(\"%H:%M:%S , %Y-%m-%d\", ltime)\n",
    "time_str = time.strftime(\"%H:%M:%S\" , ltime)\n",
    "\n",
    "print(ftime)\n",
    "print(time_str)"
   ]
  },
  {
   "cell_type": "code",
   "execution_count": 14,
   "metadata": {},
   "outputs": [
    {
     "name": "stdout",
     "output_type": "stream",
     "text": [
      "Ali Mostafa\n"
     ]
    }
   ],
   "source": [
    "#Q3\n",
    "fname=\"Mostafa\"\n",
    "lname=\"Ali\"\n",
    "print(lname+\" \"+fname)"
   ]
  },
  {
   "cell_type": "code",
   "execution_count": 4,
   "metadata": {},
   "outputs": [
    {
     "name": "stdout",
     "output_type": "stream",
     "text": [
      "   December 2021\n",
      "Mo Tu We Th Fr Sa Su\n",
      "       1  2  3  4  5\n",
      " 6  7  8  9 10 11 12\n",
      "13 14 15 16 17 18 19\n",
      "20 21 22 23 24 25 26\n",
      "27 28 29 30 31\n",
      "\n"
     ]
    }
   ],
   "source": [
    "#Q4\n",
    "import calendar\n",
    "y=2021\n",
    "m=12\n",
    "print(calendar.month(y,m))"
   ]
  },
  {
   "cell_type": "code",
   "execution_count": 38,
   "metadata": {},
   "outputs": [
    {
     "name": "stdout",
     "output_type": "stream",
     "text": [
      "246.2458\n",
      "246\n"
     ]
    }
   ],
   "source": [
    "#Q5\n",
    "n=\"246.2458\"\n",
    "x=float(n)\n",
    "print(n)\n",
    "print(int(x))"
   ]
  },
  {
   "cell_type": "code",
   "execution_count": 6,
   "metadata": {},
   "outputs": [
    {
     "name": "stdout",
     "output_type": "stream",
     "text": [
      "Hello World\n",
      "Hello World\n",
      "Hello World\n",
      "\n"
     ]
    }
   ],
   "source": [
    "#Q6\n",
    "print(\"Hello World\\n\"*3)"
   ]
  },
  {
   "cell_type": "code",
   "execution_count": 14,
   "metadata": {
    "scrolled": true
   },
   "outputs": [
    {
     "name": "stdout",
     "output_type": "stream",
     "text": [
      "w3ce\n",
      "w3w3\n",
      "Empty String\n"
     ]
    }
   ],
   "source": [
    "#Q7\n",
    "def fun(str):\n",
    "    if len(str) < 2:\n",
    "        return 'Empty String'\n",
    "    return str[0:2] + str[-2:]\n",
    "print(fun('w3resource'))\n",
    "print(fun('w3'))\n",
    "print(fun('w'))"
   ]
  },
  {
   "cell_type": "code",
   "execution_count": 8,
   "metadata": {},
   "outputs": [
    {
     "name": "stdout",
     "output_type": "stream",
     "text": [
      "15\n"
     ]
    }
   ],
   "source": [
    "#Q8\n",
    "List=[1,2,3,4,5]\n",
    "print(sum(List))"
   ]
  },
  {
   "cell_type": "code",
   "execution_count": 18,
   "metadata": {},
   "outputs": [
    {
     "name": "stdout",
     "output_type": "stream",
     "text": [
      "Enter the value of x :3\n",
      "36\n"
     ]
    }
   ],
   "source": [
    "#9\n",
    "\n",
    "x = int(input(\"Enter the value of x :\"))\n",
    "y = 3*(x**2)+4*x-3\n",
    "\n",
    "\n",
    "\n",
    "print(y)"
   ]
  },
  {
   "cell_type": "code",
   "execution_count": 5,
   "metadata": {},
   "outputs": [
    {
     "name": "stdout",
     "output_type": "stream",
     "text": [
      "['my', 'name', 'is', 'kelly']\n"
     ]
    }
   ],
   "source": [
    "#Q10\n",
    "list1=[\"m\",\"na\",\"i\",\"ke\"]\n",
    "list2=[\"y\",\"me\",\"s\",\"lly\"]\n",
    "l3=[]\n",
    "for i in range(len(list1)):\n",
    "    x=list1[i]+list2[i]\n",
    "    l3.append(x)\n",
    "print(l3)"
   ]
  },
  {
   "cell_type": "code",
   "execution_count": 13,
   "metadata": {},
   "outputs": [
    {
     "name": "stdout",
     "output_type": "stream",
     "text": [
      "[1, 4, 9, 16, 25, 36, 49]\n"
     ]
    }
   ],
   "source": [
    "#Q11\n",
    "alist=[1,2,3,4,5,6,7]\n",
    "list2=[]\n",
    "for i in alist:\n",
    "    list2.append(alist[i-1]**2)\n",
    "print(list2)    "
   ]
  },
  {
   "cell_type": "code",
   "execution_count": 40,
   "metadata": {},
   "outputs": [
    {
     "name": "stdout",
     "output_type": "stream",
     "text": [
      "['Mike', 'Emma', 'Kelly', 'Brad']\n"
     ]
    }
   ],
   "source": [
    "#Q12\n",
    "list1=[\"Mike\",\"\",\"Emma\",\"Kelly\",\"\",\"Brad\"]\n",
    "while \"\" in list1:\n",
    "    list1.remove(\"\")\n",
    "print(list1)"
   ]
  },
  {
   "cell_type": "code",
   "execution_count": 43,
   "metadata": {},
   "outputs": [
    {
     "name": "stdout",
     "output_type": "stream",
     "text": [
      "(50, 40, 30, 20, 10)\n"
     ]
    }
   ],
   "source": [
    "#Q13\n",
    "atuple=(10,20,30,40,50)\n",
    "x=list(atuple)\n",
    "x.reverse()\n",
    "atuple=tuple(x)\n",
    "print(atuple)"
   ]
  },
  {
   "cell_type": "code",
   "execution_count": 1,
   "metadata": {},
   "outputs": [
    {
     "name": "stdout",
     "output_type": "stream",
     "text": [
      "10\n",
      "20\n",
      "30\n",
      "40\n"
     ]
    }
   ],
   "source": [
    "#Q14\n",
    "atuple=(\"10\",\"20\",\"30\",\"40\")\n",
    "a,b,c,d=atuple\n",
    "\n",
    "print(a)\n",
    "print(b)\n",
    "print(c)\n",
    "print(d)"
   ]
  },
  {
   "cell_type": "code",
   "execution_count": 19,
   "metadata": {},
   "outputs": [
    {
     "name": "stdout",
     "output_type": "stream",
     "text": [
      "2\n"
     ]
    }
   ],
   "source": [
    "#15\n",
    "tuble1 = (50,10,60,70,50)\n",
    "print(tuble1.count(50))"
   ]
  },
  {
   "cell_type": "code",
   "execution_count": 2,
   "metadata": {},
   "outputs": [
    {
     "name": "stdout",
     "output_type": "stream",
     "text": [
      "{40, 50, 30}\n"
     ]
    }
   ],
   "source": [
    "#16\n",
    "set1 = {10,20,30,40,50,10}\n",
    "set2 = {30,40,50,60,70}\n",
    "\n",
    "print(set1.intersection(set2))"
   ]
  },
  {
   "cell_type": "code",
   "execution_count": 3,
   "metadata": {},
   "outputs": [
    {
     "name": "stdout",
     "output_type": "stream",
     "text": [
      "{70, 40, 10, 50, 20, 60, 30}\n"
     ]
    }
   ],
   "source": [
    "#17\n",
    "set1 = {10,20,30,40,50}\n",
    "set2 = {30,40,50,60,70}\n",
    "\n",
    "print( set1.union(set2))\n"
   ]
  },
  {
   "cell_type": "code",
   "execution_count": 4,
   "metadata": {},
   "outputs": [
    {
     "name": "stdout",
     "output_type": "stream",
     "text": [
      "{10, 30}\n"
     ]
    }
   ],
   "source": [
    "#18\n",
    "set1 = {10,20,30}\n",
    "set2 = {20,40,50}\n",
    "\n",
    "print(set1.difference(set2))"
   ]
  },
  {
   "cell_type": "code",
   "execution_count": 28,
   "metadata": {},
   "outputs": [
    {
     "name": "stdout",
     "output_type": "stream",
     "text": [
      "{'ten': 10, 'twenty': 20, 'thirty': 30}\n"
     ]
    }
   ],
   "source": [
    "#19\n",
    "k=[\"ten\", \"twenty\", \"thirty\"]\n",
    "v=[10,20,30]\n",
    "\n",
    "d = {}\n",
    "\n",
    "for i in range(len(k)):\n",
    "    d[k[i]]=v[i]\n",
    "    \n",
    "print(d)"
   ]
  },
  {
   "cell_type": "code",
   "execution_count": 39,
   "metadata": {},
   "outputs": [
    {
     "name": "stdout",
     "output_type": "stream",
     "text": [
      "{'age': 25, 'city': 'new yourk'}\n"
     ]
    }
   ],
   "source": [
    "#20\n",
    "\n",
    "sampleDict = {\n",
    "    \n",
    "    \"name\": \"kelly\",\n",
    "    \"age\":25,\n",
    "    \"salary\":8000,\n",
    "    \"city\":\"new yourk\"\n",
    "}\n",
    "\n",
    "d = {}\n",
    "\n",
    "l=[\"name\",\"salary\"]\n",
    "for i in range(len(l)):\n",
    "    if l[i] in sampleDict.keys():\n",
    "        d[l[i]]=sampleDict[l[i]]\n",
    "        \n",
    "        \n",
    "print(d)"
   ]
  },
  {
   "cell_type": "code",
   "execution_count": 33,
   "metadata": {},
   "outputs": [
    {
     "name": "stdout",
     "output_type": "stream",
     "text": [
      "{'age': 25, 'city': 'new yourk'}\n"
     ]
    }
   ],
   "source": [
    "#21\n",
    "sampleDict = {\n",
    "    \n",
    "    \"name\": \"kelly\",\n",
    "    \"age\":25,\n",
    "    \"salary\":8000,\n",
    "    \"city\":\"new yourk\"\n",
    "}\n",
    "\n",
    "\n",
    "l=[\"name\",\"salary\"]\n",
    "for i in l:\n",
    "    del sampleDict[i]\n",
    "print(sampleDict)"
   ]
  }
 ],
 "metadata": {
  "kernelspec": {
   "display_name": "Python 3",
   "language": "python",
   "name": "python3"
  },
  "language_info": {
   "codemirror_mode": {
    "name": "ipython",
    "version": 3
   },
   "file_extension": ".py",
   "mimetype": "text/x-python",
   "name": "python",
   "nbconvert_exporter": "python",
   "pygments_lexer": "ipython3",
   "version": "3.7.6"
  }
 },
 "nbformat": 4,
 "nbformat_minor": 5
}
